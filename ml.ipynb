{
 "cells": [
  {
   "cell_type": "code",
   "execution_count": 41,
   "id": "f878475d",
   "metadata": {},
   "outputs": [
    {
     "name": "stdout",
     "output_type": "stream",
     "text": [
      "      Video ID                                              Title  \\\n",
      "0  eGsKwMSA6Ic             “Why is my website loading so slowly?”   \n",
      "1  5e13FdKeTsE                 New Google Pay button for Flutter?   \n",
      "2  QhhZt1wUtyo  Why are these login counts incorrect? Can you ...   \n",
      "3  SqmOgdvfvSk  Unique challenges that mobile devs face? How i...   \n",
      "4  OMwlK_5iRRc  Google Developer Experts build more with Googl...   \n",
      "\n",
      "           Published At  Views  Likes  Comments  Duration (Seconds)  \n",
      "0  2025-04-16T04:00:49Z   2481    207        16                63.0  \n",
      "1  2025-04-15T04:00:04Z   2801    177         0                61.0  \n",
      "2  2025-04-14T13:00:45Z   4499    115        13                26.0  \n",
      "3  2025-04-12T04:00:23Z   4130    115         2                46.0  \n",
      "4  2025-04-11T22:57:35Z   3019     49         7               108.0  \n"
     ]
    }
   ],
   "source": [
    "\n",
    "import pandas as pd\n",
    "import numpy as np\n",
    "# Replace with your actual filename\n",
    "df= pd.read_csv('../youtube_videos_data.csv')\n",
    "\n",
    "# Display the first 5 rows\n",
    "print(df.head())"
   ]
  },
  {
   "cell_type": "code",
   "execution_count": 42,
   "id": "d583d3d5",
   "metadata": {},
   "outputs": [
    {
     "name": "stdout",
     "output_type": "stream",
     "text": [
      "<class 'pandas.core.frame.DataFrame'>\n",
      "RangeIndex: 6542 entries, 0 to 6541\n",
      "Data columns (total 7 columns):\n",
      " #   Column              Non-Null Count  Dtype  \n",
      "---  ------              --------------  -----  \n",
      " 0   Video ID            6542 non-null   object \n",
      " 1   Title               6542 non-null   object \n",
      " 2   Published At        6542 non-null   object \n",
      " 3   Views               6542 non-null   int64  \n",
      " 4   Likes               6542 non-null   int64  \n",
      " 5   Comments            6542 non-null   int64  \n",
      " 6   Duration (Seconds)  6542 non-null   float64\n",
      "dtypes: float64(1), int64(3), object(3)\n",
      "memory usage: 357.9+ KB\n"
     ]
    }
   ],
   "source": [
    "df.info()\n"
   ]
  },
  {
   "cell_type": "code",
   "execution_count": 43,
   "id": "f1ad761a",
   "metadata": {},
   "outputs": [],
   "source": [
    "from sklearn.impute import SimpleImputer\n",
    "imputer =SimpleImputer(missing_values=np.nan,strategy='mean')\n",
    "\n"
   ]
  },
  {
   "cell_type": "code",
   "execution_count": 44,
   "id": "a14d9410",
   "metadata": {},
   "outputs": [
    {
     "data": {
      "text/html": [
       "<div>\n",
       "<style scoped>\n",
       "    .dataframe tbody tr th:only-of-type {\n",
       "        vertical-align: middle;\n",
       "    }\n",
       "\n",
       "    .dataframe tbody tr th {\n",
       "        vertical-align: top;\n",
       "    }\n",
       "\n",
       "    .dataframe thead th {\n",
       "        text-align: right;\n",
       "    }\n",
       "</style>\n",
       "<table border=\"1\" class=\"dataframe\">\n",
       "  <thead>\n",
       "    <tr style=\"text-align: right;\">\n",
       "      <th></th>\n",
       "      <th>Video ID</th>\n",
       "      <th>Title</th>\n",
       "      <th>Published At</th>\n",
       "      <th>Views</th>\n",
       "      <th>Likes</th>\n",
       "      <th>Comments</th>\n",
       "      <th>Duration (Seconds)</th>\n",
       "    </tr>\n",
       "  </thead>\n",
       "  <tbody>\n",
       "    <tr>\n",
       "      <th>0</th>\n",
       "      <td>eGsKwMSA6Ic</td>\n",
       "      <td>“Why is my website loading so slowly?”</td>\n",
       "      <td>2025-04-16T04:00:49Z</td>\n",
       "      <td>2481</td>\n",
       "      <td>207</td>\n",
       "      <td>16</td>\n",
       "      <td>63.0</td>\n",
       "    </tr>\n",
       "    <tr>\n",
       "      <th>1</th>\n",
       "      <td>5e13FdKeTsE</td>\n",
       "      <td>New Google Pay button for Flutter?</td>\n",
       "      <td>2025-04-15T04:00:04Z</td>\n",
       "      <td>2801</td>\n",
       "      <td>177</td>\n",
       "      <td>0</td>\n",
       "      <td>61.0</td>\n",
       "    </tr>\n",
       "    <tr>\n",
       "      <th>2</th>\n",
       "      <td>QhhZt1wUtyo</td>\n",
       "      <td>Why are these login counts incorrect? Can you ...</td>\n",
       "      <td>2025-04-14T13:00:45Z</td>\n",
       "      <td>4499</td>\n",
       "      <td>115</td>\n",
       "      <td>13</td>\n",
       "      <td>26.0</td>\n",
       "    </tr>\n",
       "    <tr>\n",
       "      <th>3</th>\n",
       "      <td>SqmOgdvfvSk</td>\n",
       "      <td>Unique challenges that mobile devs face? How i...</td>\n",
       "      <td>2025-04-12T04:00:23Z</td>\n",
       "      <td>4130</td>\n",
       "      <td>115</td>\n",
       "      <td>2</td>\n",
       "      <td>46.0</td>\n",
       "    </tr>\n",
       "    <tr>\n",
       "      <th>4</th>\n",
       "      <td>OMwlK_5iRRc</td>\n",
       "      <td>Google Developer Experts build more with Googl...</td>\n",
       "      <td>2025-04-11T22:57:35Z</td>\n",
       "      <td>3019</td>\n",
       "      <td>49</td>\n",
       "      <td>7</td>\n",
       "      <td>108.0</td>\n",
       "    </tr>\n",
       "    <tr>\n",
       "      <th>...</th>\n",
       "      <td>...</td>\n",
       "      <td>...</td>\n",
       "      <td>...</td>\n",
       "      <td>...</td>\n",
       "      <td>...</td>\n",
       "      <td>...</td>\n",
       "      <td>...</td>\n",
       "    </tr>\n",
       "    <tr>\n",
       "      <th>6537</th>\n",
       "      <td>5Eib_H_zCEY</td>\n",
       "      <td>Cluster Computing and MapReduce Lecture 3</td>\n",
       "      <td>2007-08-28T16:56:29Z</td>\n",
       "      <td>65518</td>\n",
       "      <td>223</td>\n",
       "      <td>8</td>\n",
       "      <td>2681.0</td>\n",
       "    </tr>\n",
       "    <tr>\n",
       "      <th>6538</th>\n",
       "      <td>yjPBkvYh-ss</td>\n",
       "      <td>Cluster Computing and MapReduce Lecture 1</td>\n",
       "      <td>2007-08-28T16:53:57Z</td>\n",
       "      <td>229758</td>\n",
       "      <td>892</td>\n",
       "      <td>55</td>\n",
       "      <td>2777.0</td>\n",
       "    </tr>\n",
       "    <tr>\n",
       "      <th>6539</th>\n",
       "      <td>-vD6PUdf3Js</td>\n",
       "      <td>Cluster Computing and MapReduce Lecture 2</td>\n",
       "      <td>2007-08-28T16:51:42Z</td>\n",
       "      <td>104574</td>\n",
       "      <td>320</td>\n",
       "      <td>34</td>\n",
       "      <td>3126.0</td>\n",
       "    </tr>\n",
       "    <tr>\n",
       "      <th>6540</th>\n",
       "      <td>1ZDybXl212Q</td>\n",
       "      <td>Cluster Computing and MapReduce Lecture 4</td>\n",
       "      <td>2007-08-28T16:46:15Z</td>\n",
       "      <td>124030</td>\n",
       "      <td>245</td>\n",
       "      <td>39</td>\n",
       "      <td>1411.0</td>\n",
       "    </tr>\n",
       "    <tr>\n",
       "      <th>6541</th>\n",
       "      <td>F59KmOrnFco</td>\n",
       "      <td>Gearing up with Zoho Offline</td>\n",
       "      <td>2007-08-23T17:44:51Z</td>\n",
       "      <td>13135</td>\n",
       "      <td>74</td>\n",
       "      <td>28</td>\n",
       "      <td>758.0</td>\n",
       "    </tr>\n",
       "  </tbody>\n",
       "</table>\n",
       "<p>6542 rows × 7 columns</p>\n",
       "</div>"
      ],
      "text/plain": [
       "         Video ID                                              Title  \\\n",
       "0     eGsKwMSA6Ic             “Why is my website loading so slowly?”   \n",
       "1     5e13FdKeTsE                 New Google Pay button for Flutter?   \n",
       "2     QhhZt1wUtyo  Why are these login counts incorrect? Can you ...   \n",
       "3     SqmOgdvfvSk  Unique challenges that mobile devs face? How i...   \n",
       "4     OMwlK_5iRRc  Google Developer Experts build more with Googl...   \n",
       "...           ...                                                ...   \n",
       "6537  5Eib_H_zCEY          Cluster Computing and MapReduce Lecture 3   \n",
       "6538  yjPBkvYh-ss          Cluster Computing and MapReduce Lecture 1   \n",
       "6539  -vD6PUdf3Js          Cluster Computing and MapReduce Lecture 2   \n",
       "6540  1ZDybXl212Q          Cluster Computing and MapReduce Lecture 4   \n",
       "6541  F59KmOrnFco                       Gearing up with Zoho Offline   \n",
       "\n",
       "              Published At   Views  Likes  Comments  Duration (Seconds)  \n",
       "0     2025-04-16T04:00:49Z    2481    207        16                63.0  \n",
       "1     2025-04-15T04:00:04Z    2801    177         0                61.0  \n",
       "2     2025-04-14T13:00:45Z    4499    115        13                26.0  \n",
       "3     2025-04-12T04:00:23Z    4130    115         2                46.0  \n",
       "4     2025-04-11T22:57:35Z    3019     49         7               108.0  \n",
       "...                    ...     ...    ...       ...                 ...  \n",
       "6537  2007-08-28T16:56:29Z   65518    223         8              2681.0  \n",
       "6538  2007-08-28T16:53:57Z  229758    892        55              2777.0  \n",
       "6539  2007-08-28T16:51:42Z  104574    320        34              3126.0  \n",
       "6540  2007-08-28T16:46:15Z  124030    245        39              1411.0  \n",
       "6541  2007-08-23T17:44:51Z   13135     74        28               758.0  \n",
       "\n",
       "[6542 rows x 7 columns]"
      ]
     },
     "execution_count": 44,
     "metadata": {},
     "output_type": "execute_result"
    }
   ],
   "source": [
    "df"
   ]
  },
  {
   "cell_type": "code",
   "execution_count": 45,
   "id": "bda31e87",
   "metadata": {},
   "outputs": [
    {
     "name": "stdout",
     "output_type": "stream",
     "text": [
      "0\n"
     ]
    }
   ],
   "source": [
    "print(df.duplicated().sum())"
   ]
  },
  {
   "cell_type": "code",
   "execution_count": 46,
   "id": "16cc0773",
   "metadata": {},
   "outputs": [
    {
     "data": {
      "text/html": [
       "<div>\n",
       "<style scoped>\n",
       "    .dataframe tbody tr th:only-of-type {\n",
       "        vertical-align: middle;\n",
       "    }\n",
       "\n",
       "    .dataframe tbody tr th {\n",
       "        vertical-align: top;\n",
       "    }\n",
       "\n",
       "    .dataframe thead th {\n",
       "        text-align: right;\n",
       "    }\n",
       "</style>\n",
       "<table border=\"1\" class=\"dataframe\">\n",
       "  <thead>\n",
       "    <tr style=\"text-align: right;\">\n",
       "      <th></th>\n",
       "      <th>Views</th>\n",
       "      <th>Likes</th>\n",
       "      <th>Comments</th>\n",
       "      <th>Duration (Seconds)</th>\n",
       "    </tr>\n",
       "  </thead>\n",
       "  <tbody>\n",
       "    <tr>\n",
       "      <th>count</th>\n",
       "      <td>6.542000e+03</td>\n",
       "      <td>6542.000000</td>\n",
       "      <td>6542.000000</td>\n",
       "      <td>6542.000000</td>\n",
       "    </tr>\n",
       "    <tr>\n",
       "      <th>mean</th>\n",
       "      <td>4.786268e+04</td>\n",
       "      <td>278.908438</td>\n",
       "      <td>13.983797</td>\n",
       "      <td>1371.670284</td>\n",
       "    </tr>\n",
       "    <tr>\n",
       "      <th>std</th>\n",
       "      <td>6.275427e+05</td>\n",
       "      <td>1537.737267</td>\n",
       "      <td>52.661418</td>\n",
       "      <td>2804.293517</td>\n",
       "    </tr>\n",
       "    <tr>\n",
       "      <th>min</th>\n",
       "      <td>0.000000e+00</td>\n",
       "      <td>0.000000</td>\n",
       "      <td>0.000000</td>\n",
       "      <td>1.000000</td>\n",
       "    </tr>\n",
       "    <tr>\n",
       "      <th>25%</th>\n",
       "      <td>2.890250e+03</td>\n",
       "      <td>22.000000</td>\n",
       "      <td>1.000000</td>\n",
       "      <td>174.000000</td>\n",
       "    </tr>\n",
       "    <tr>\n",
       "      <th>50%</th>\n",
       "      <td>6.694000e+03</td>\n",
       "      <td>73.000000</td>\n",
       "      <td>4.000000</td>\n",
       "      <td>569.000000</td>\n",
       "    </tr>\n",
       "    <tr>\n",
       "      <th>75%</th>\n",
       "      <td>1.852650e+04</td>\n",
       "      <td>192.750000</td>\n",
       "      <td>11.000000</td>\n",
       "      <td>2005.750000</td>\n",
       "    </tr>\n",
       "    <tr>\n",
       "      <th>max</th>\n",
       "      <td>3.696957e+07</td>\n",
       "      <td>57404.000000</td>\n",
       "      <td>1829.000000</td>\n",
       "      <td>41219.000000</td>\n",
       "    </tr>\n",
       "  </tbody>\n",
       "</table>\n",
       "</div>"
      ],
      "text/plain": [
       "              Views         Likes     Comments  Duration (Seconds)\n",
       "count  6.542000e+03   6542.000000  6542.000000         6542.000000\n",
       "mean   4.786268e+04    278.908438    13.983797         1371.670284\n",
       "std    6.275427e+05   1537.737267    52.661418         2804.293517\n",
       "min    0.000000e+00      0.000000     0.000000            1.000000\n",
       "25%    2.890250e+03     22.000000     1.000000          174.000000\n",
       "50%    6.694000e+03     73.000000     4.000000          569.000000\n",
       "75%    1.852650e+04    192.750000    11.000000         2005.750000\n",
       "max    3.696957e+07  57404.000000  1829.000000        41219.000000"
      ]
     },
     "execution_count": 46,
     "metadata": {},
     "output_type": "execute_result"
    }
   ],
   "source": [
    "df.describe()"
   ]
  },
  {
   "cell_type": "code",
   "execution_count": 47,
   "id": "b70c0aff",
   "metadata": {},
   "outputs": [],
   "source": [
    "df.drop(['Title','Published At'],axis='columns',inplace=True)"
   ]
  },
  {
   "cell_type": "code",
   "execution_count": 48,
   "id": "b0193936",
   "metadata": {},
   "outputs": [
    {
     "data": {
      "text/html": [
       "<div>\n",
       "<style scoped>\n",
       "    .dataframe tbody tr th:only-of-type {\n",
       "        vertical-align: middle;\n",
       "    }\n",
       "\n",
       "    .dataframe tbody tr th {\n",
       "        vertical-align: top;\n",
       "    }\n",
       "\n",
       "    .dataframe thead th {\n",
       "        text-align: right;\n",
       "    }\n",
       "</style>\n",
       "<table border=\"1\" class=\"dataframe\">\n",
       "  <thead>\n",
       "    <tr style=\"text-align: right;\">\n",
       "      <th></th>\n",
       "      <th>Video ID</th>\n",
       "      <th>Views</th>\n",
       "      <th>Likes</th>\n",
       "      <th>Comments</th>\n",
       "      <th>Duration (Seconds)</th>\n",
       "    </tr>\n",
       "  </thead>\n",
       "  <tbody>\n",
       "    <tr>\n",
       "      <th>0</th>\n",
       "      <td>eGsKwMSA6Ic</td>\n",
       "      <td>2481</td>\n",
       "      <td>207</td>\n",
       "      <td>16</td>\n",
       "      <td>63.0</td>\n",
       "    </tr>\n",
       "    <tr>\n",
       "      <th>1</th>\n",
       "      <td>5e13FdKeTsE</td>\n",
       "      <td>2801</td>\n",
       "      <td>177</td>\n",
       "      <td>0</td>\n",
       "      <td>61.0</td>\n",
       "    </tr>\n",
       "    <tr>\n",
       "      <th>2</th>\n",
       "      <td>QhhZt1wUtyo</td>\n",
       "      <td>4499</td>\n",
       "      <td>115</td>\n",
       "      <td>13</td>\n",
       "      <td>26.0</td>\n",
       "    </tr>\n",
       "    <tr>\n",
       "      <th>3</th>\n",
       "      <td>SqmOgdvfvSk</td>\n",
       "      <td>4130</td>\n",
       "      <td>115</td>\n",
       "      <td>2</td>\n",
       "      <td>46.0</td>\n",
       "    </tr>\n",
       "    <tr>\n",
       "      <th>4</th>\n",
       "      <td>OMwlK_5iRRc</td>\n",
       "      <td>3019</td>\n",
       "      <td>49</td>\n",
       "      <td>7</td>\n",
       "      <td>108.0</td>\n",
       "    </tr>\n",
       "    <tr>\n",
       "      <th>...</th>\n",
       "      <td>...</td>\n",
       "      <td>...</td>\n",
       "      <td>...</td>\n",
       "      <td>...</td>\n",
       "      <td>...</td>\n",
       "    </tr>\n",
       "    <tr>\n",
       "      <th>6537</th>\n",
       "      <td>5Eib_H_zCEY</td>\n",
       "      <td>65518</td>\n",
       "      <td>223</td>\n",
       "      <td>8</td>\n",
       "      <td>2681.0</td>\n",
       "    </tr>\n",
       "    <tr>\n",
       "      <th>6538</th>\n",
       "      <td>yjPBkvYh-ss</td>\n",
       "      <td>229758</td>\n",
       "      <td>892</td>\n",
       "      <td>55</td>\n",
       "      <td>2777.0</td>\n",
       "    </tr>\n",
       "    <tr>\n",
       "      <th>6539</th>\n",
       "      <td>-vD6PUdf3Js</td>\n",
       "      <td>104574</td>\n",
       "      <td>320</td>\n",
       "      <td>34</td>\n",
       "      <td>3126.0</td>\n",
       "    </tr>\n",
       "    <tr>\n",
       "      <th>6540</th>\n",
       "      <td>1ZDybXl212Q</td>\n",
       "      <td>124030</td>\n",
       "      <td>245</td>\n",
       "      <td>39</td>\n",
       "      <td>1411.0</td>\n",
       "    </tr>\n",
       "    <tr>\n",
       "      <th>6541</th>\n",
       "      <td>F59KmOrnFco</td>\n",
       "      <td>13135</td>\n",
       "      <td>74</td>\n",
       "      <td>28</td>\n",
       "      <td>758.0</td>\n",
       "    </tr>\n",
       "  </tbody>\n",
       "</table>\n",
       "<p>6542 rows × 5 columns</p>\n",
       "</div>"
      ],
      "text/plain": [
       "         Video ID   Views  Likes  Comments  Duration (Seconds)\n",
       "0     eGsKwMSA6Ic    2481    207        16                63.0\n",
       "1     5e13FdKeTsE    2801    177         0                61.0\n",
       "2     QhhZt1wUtyo    4499    115        13                26.0\n",
       "3     SqmOgdvfvSk    4130    115         2                46.0\n",
       "4     OMwlK_5iRRc    3019     49         7               108.0\n",
       "...           ...     ...    ...       ...                 ...\n",
       "6537  5Eib_H_zCEY   65518    223         8              2681.0\n",
       "6538  yjPBkvYh-ss  229758    892        55              2777.0\n",
       "6539  -vD6PUdf3Js  104574    320        34              3126.0\n",
       "6540  1ZDybXl212Q  124030    245        39              1411.0\n",
       "6541  F59KmOrnFco   13135     74        28               758.0\n",
       "\n",
       "[6542 rows x 5 columns]"
      ]
     },
     "execution_count": 48,
     "metadata": {},
     "output_type": "execute_result"
    }
   ],
   "source": [
    "df"
   ]
  },
  {
   "cell_type": "code",
   "execution_count": 49,
   "id": "013c22d3",
   "metadata": {},
   "outputs": [],
   "source": [
    "X = df.iloc[:, -1]\n",
    "y=df.iloc[:,1]"
   ]
  },
  {
   "cell_type": "code",
   "execution_count": 50,
   "id": "ef8ae15d",
   "metadata": {},
   "outputs": [],
   "source": [
    "from sklearn.model_selection import train_test_split\n",
    "X_train,X_test,y_train,y_test=train_test_split(X,y,random_state=42,test_size=0.2)"
   ]
  },
  {
   "cell_type": "code",
   "execution_count": 51,
   "id": "b59c4b1c",
   "metadata": {},
   "outputs": [
    {
     "data": {
      "text/plain": [
       "(548      237.0\n",
       " 5050    3039.0\n",
       " 1575      93.0\n",
       " 6078    3555.0\n",
       " 1421     141.0\n",
       "          ...  \n",
       " 3772    1770.0\n",
       " 5191    2440.0\n",
       " 5226    1895.0\n",
       " 5390    3448.0\n",
       " 860       29.0\n",
       " Name: Duration (Seconds), Length: 5233, dtype: float64,\n",
       " 548      2804\n",
       " 5050     1460\n",
       " 1575     5672\n",
       " 6078     3787\n",
       " 1421     9282\n",
       "         ...  \n",
       " 3772     4180\n",
       " 5191    11093\n",
       " 5226     3648\n",
       " 5390     5519\n",
       " 860      3104\n",
       " Name: Views, Length: 5233, dtype: int64)"
      ]
     },
     "execution_count": 51,
     "metadata": {},
     "output_type": "execute_result"
    }
   ],
   "source": [
    "\n",
    "X_train,y_train"
   ]
  },
  {
   "cell_type": "code",
   "execution_count": 52,
   "id": "1ecbb87a",
   "metadata": {},
   "outputs": [
    {
     "name": "stdout",
     "output_type": "stream",
     "text": [
      "Requirement already satisfied: seaborn in c:\\users\\falgu\\onedrive\\desktop\\mlops\\venv\\lib\\site-packages (0.13.2)\n",
      "Requirement already satisfied: numpy!=1.24.0,>=1.20 in c:\\users\\falgu\\onedrive\\desktop\\mlops\\venv\\lib\\site-packages (from seaborn) (2.2.4)\n",
      "Requirement already satisfied: pandas>=1.2 in c:\\users\\falgu\\onedrive\\desktop\\mlops\\venv\\lib\\site-packages (from seaborn) (2.2.3)\n",
      "Requirement already satisfied: matplotlib!=3.6.1,>=3.4 in c:\\users\\falgu\\onedrive\\desktop\\mlops\\venv\\lib\\site-packages (from seaborn) (3.10.1)\n",
      "Requirement already satisfied: contourpy>=1.0.1 in c:\\users\\falgu\\onedrive\\desktop\\mlops\\venv\\lib\\site-packages (from matplotlib!=3.6.1,>=3.4->seaborn) (1.3.1)\n",
      "Requirement already satisfied: cycler>=0.10 in c:\\users\\falgu\\onedrive\\desktop\\mlops\\venv\\lib\\site-packages (from matplotlib!=3.6.1,>=3.4->seaborn) (0.12.1)\n",
      "Requirement already satisfied: fonttools>=4.22.0 in c:\\users\\falgu\\onedrive\\desktop\\mlops\\venv\\lib\\site-packages (from matplotlib!=3.6.1,>=3.4->seaborn) (4.56.0)\n",
      "Requirement already satisfied: kiwisolver>=1.3.1 in c:\\users\\falgu\\onedrive\\desktop\\mlops\\venv\\lib\\site-packages (from matplotlib!=3.6.1,>=3.4->seaborn) (1.4.8)\n",
      "Requirement already satisfied: packaging>=20.0 in c:\\users\\falgu\\onedrive\\desktop\\mlops\\venv\\lib\\site-packages (from matplotlib!=3.6.1,>=3.4->seaborn) (24.2)\n",
      "Requirement already satisfied: pillow>=8 in c:\\users\\falgu\\onedrive\\desktop\\mlops\\venv\\lib\\site-packages (from matplotlib!=3.6.1,>=3.4->seaborn) (11.1.0)\n",
      "Requirement already satisfied: pyparsing>=2.3.1 in c:\\users\\falgu\\onedrive\\desktop\\mlops\\venv\\lib\\site-packages (from matplotlib!=3.6.1,>=3.4->seaborn) (3.2.3)\n",
      "Requirement already satisfied: python-dateutil>=2.7 in c:\\users\\falgu\\onedrive\\desktop\\mlops\\venv\\lib\\site-packages (from matplotlib!=3.6.1,>=3.4->seaborn) (2.9.0.post0)\n",
      "Requirement already satisfied: pytz>=2020.1 in c:\\users\\falgu\\onedrive\\desktop\\mlops\\venv\\lib\\site-packages (from pandas>=1.2->seaborn) (2025.2)\n",
      "Requirement already satisfied: tzdata>=2022.7 in c:\\users\\falgu\\onedrive\\desktop\\mlops\\venv\\lib\\site-packages (from pandas>=1.2->seaborn) (2025.2)\n",
      "Requirement already satisfied: six>=1.5 in c:\\users\\falgu\\onedrive\\desktop\\mlops\\venv\\lib\\site-packages (from python-dateutil>=2.7->matplotlib!=3.6.1,>=3.4->seaborn) (1.17.0)\n"
     ]
    }
   ],
   "source": [
    "!pip install seaborn"
   ]
  },
  {
   "cell_type": "code",
   "execution_count": 53,
   "id": "d6066ef1",
   "metadata": {},
   "outputs": [
    {
     "data": {
      "image/png": "[encoded data removed]",
      "text/plain": [
       "<Figure size 640x480 with 1 Axes>"
      ]
     },
     "metadata": {},
     "output_type": "display_data"
    }
   ],
   "source": [
    "\n",
    "import seaborn as sns\n",
    "import matplotlib.pyplot as plt\n",
    "\n",
    "sns.histplot(df['Views'], kde=True)\n",
    "plt.title('Distribution of Views')\n",
    "plt.show()"
   ]
  },
  {
   "cell_type": "code",
   "execution_count": 54,
   "id": "638a4084",
   "metadata": {},
   "outputs": [
    {
     "data": {
      "image/png": "[encoded data removed]",
      "text/plain": [
       "<Figure size 640x480 with 1 Axes>"
      ]
     },
     "metadata": {},
     "output_type": "display_data"
    }
   ],
   "source": [
    "import seaborn as sns\n",
    "import matplotlib.pyplot as plt\n",
    "import numpy as np\n",
    "\n",
    "df['Views'] = df['Views'].astype(float)  # Make sure it's numeric\n",
    "df['Log_Views'] = np.log1p(df['Views'])  # log1p handles 0 values safely\n",
    "\n",
    "sns.histplot(df['Log_Views'], kde=True)\n",
    "plt.title(\"Log-transformed View Count Distribution\")\n",
    "plt.show()\n"
   ]
  },
  {
   "cell_type": "code",
   "execution_count": 55,
   "id": "d8cbace8",
   "metadata": {},
   "outputs": [
    {
     "name": "stdout",
     "output_type": "stream",
     "text": [
      "float64\n"
     ]
    }
   ],
   "source": [
    "print(X_train.dtypes)"
   ]
  },
  {
   "cell_type": "code",
   "execution_count": 56,
   "id": "6f31705c",
   "metadata": {},
   "outputs": [
    {
     "name": "stdout",
     "output_type": "stream",
     "text": [
      "7911774.441726259\n"
     ]
    }
   ],
   "source": [
    "print(X_train.var())"
   ]
  },
  {
   "cell_type": "code",
   "execution_count": 58,
   "id": "507d5b25",
   "metadata": {},
   "outputs": [],
   "source": [
    "from sklearn.preprocessing import StandardScaler\n",
    "X_train_reshaped = X_train.values.reshape(-1, 1)  # If it's a single feature\n",
    "X_test_reshaped = X_test.values.reshape(-1, 1) \n",
    "sc=StandardScaler()\n",
    "X_train_scaled = sc.fit_transform(X_train_reshaped)\n",
    "\n",
    "X_test_scaled = sc.transform(X_test_reshaped)"
   ]
  },
  {
   "cell_type": "code",
   "execution_count": 59,
   "id": "ba814e27",
   "metadata": {},
   "outputs": [
    {
     "data": {
      "image/png": "[encoded data removed]",
      "text/plain": [
       "<Figure size 640x480 with 1 Axes>"
      ]
     },
     "metadata": {},
     "output_type": "display_data"
    }
   ],
   "source": [
    "import seaborn as sns\n",
    "import matplotlib.pyplot as plt\n",
    "\n",
    "sns.boxplot(x=X_train_scaled.squeeze())  \n",
    "plt.title(\"Boxplot of Duration (Seconds)\")\n",
    "plt.show()"
   ]
  },
  {
   "cell_type": "code",
   "execution_count": 60,
   "id": "e37f225e",
   "metadata": {},
   "outputs": [
    {
     "name": "stdout",
     "output_type": "stream",
     "text": [
      "MSE: 1423420625422.5679\n",
      "R² Score: -0.002092681708155242\n"
     ]
    }
   ],
   "source": [
    "from sklearn.linear_model import LinearRegression\n",
    "from sklearn.metrics import mean_squared_error, r2_score\n",
    "\n",
    "lr = LinearRegression()\n",
    "lr.fit(X_train_scaled, y_train)\n",
    "\n",
    "y_pred = lr.predict(X_test_scaled)\n",
    "\n",
    "# Evaluation\n",
    "print(\"MSE:\", mean_squared_error(y_test, y_pred))\n",
    "print(\"R² Score:\", r2_score(y_test, y_pred))"
   ]
  },
  {
   "cell_type": "code",
   "execution_count": null,
   "id": "5ba4cbf6",
   "metadata": {},
   "outputs": [],
   "source": []
  },
  {
   "cell_type": "code",
   "execution_count": null,
   "id": "ddfcad36",
   "metadata": {},
   "outputs": [],
   "source": []
  },
  {
   "cell_type": "code",
   "execution_count": null,
   "id": "30faac56",
   "metadata": {},
   "outputs": [
    {
     "name": "stdout",
     "output_type": "stream",
     "text": [
      "c:\\Users\\falgu\\OneDrive\\Desktop\\mlops\\venv\n"
     ]
    }
   ],
   "source": [
    "import os\n",
    "print(os.getcwd())"
   ]
  }
 ],
 "metadata": {
  "kernelspec": {
   "display_name": "Python 3",
   "language": "python",
   "name": "python3"
  },
  "language_info": {
   "codemirror_mode": {
    "name": "ipython",
    "version": 3
   },
   "file_extension": ".py",
   "mimetype": "text/x-python",
   "name": "python",
   "nbconvert_exporter": "python",
   "pygments_lexer": "ipython3",
   "version": "3.10.16"
  }
 },
 "nbformat": 4,
 "nbformat_minor": 5
}
